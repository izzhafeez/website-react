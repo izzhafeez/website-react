{
 "cells": [
  {
   "cell_type": "code",
   "execution_count": 48,
   "id": "52d9b34b",
   "metadata": {},
   "outputs": [],
   "source": [
    "import geopandas as gpd\n",
    "import fiona\n",
    "import os\n",
    "import json\n",
    "fiona.drvsupport.supported_drivers['KML'] = 'rw'"
   ]
  },
  {
   "cell_type": "code",
   "execution_count": 56,
   "id": "840314b5",
   "metadata": {},
   "outputs": [],
   "source": [
    "def process_all_files():\n",
    "    paths = os.listdir(\"../public/hikes/kml\")\n",
    "    keys = [path.replace(\".kml\", \"\") for path in paths]\n",
    "    processed_paths = [process_file(path) for path in paths]\n",
    "    data = {k: v for k, v in zip(keys, processed_paths)}\n",
    "    with open(\"../public/hikes/processed.json\", \"w\") as outfile:\n",
    "        json.dump(data, outfile, indent=2, sort_keys=True)\n",
    "\n",
    "def process_file(path):\n",
    "    gdf = gpd.read_file(f\"../public/hikes/kml/{path}\")\n",
    "    return process_linestring(gdf.geometry.iloc[0])\n",
    "\n",
    "def process_linestring(linestring):\n",
    "    coord_strings = get_coord_strings(linestring)\n",
    "    return get_latlongs(coord_strings)\n",
    "\n",
    "def get_coord_strings(linestring):\n",
    "    linestring_wout_boilerplate = str(linestring)[14:-1]\n",
    "    return linestring_wout_boilerplate.split(\", \")\n",
    "\n",
    "def get_latlongs(coord_strings):\n",
    "    return [convert_latlongs_to_floats(x.split(\" \")[:2]) for x in coord_strings]\n",
    "\n",
    "def convert_latlongs_to_floats(coords):\n",
    "    return [float(coord) for coord in coords]"
   ]
  },
  {
   "cell_type": "code",
   "execution_count": 57,
   "id": "c48613a7",
   "metadata": {},
   "outputs": [],
   "source": [
    "process_all_files()"
   ]
  },
  {
   "cell_type": "code",
   "execution_count": null,
   "id": "78944b84",
   "metadata": {},
   "outputs": [],
   "source": []
  }
 ],
 "metadata": {
  "kernelspec": {
   "display_name": "Python 3",
   "language": "python",
   "name": "python3"
  },
  "language_info": {
   "codemirror_mode": {
    "name": "ipython",
    "version": 3
   },
   "file_extension": ".py",
   "mimetype": "text/x-python",
   "name": "python",
   "nbconvert_exporter": "python",
   "pygments_lexer": "ipython3",
   "version": "3.8.8"
  }
 },
 "nbformat": 4,
 "nbformat_minor": 5
}
